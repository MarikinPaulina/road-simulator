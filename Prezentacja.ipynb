{
 "cells": [
  {
   "cell_type": "code",
   "execution_count": 4,
   "metadata": {
    "slideshow": {
     "slide_type": "skip"
    }
   },
   "outputs": [
    {
     "data": {
      "text/html": [
       "<style>\n",
       "/* Three image containers (use 25% for four, and 50% for two, etc) */\n",
       ".column {\n",
       "  float: left;\n",
       "  width: 50%;\n",
       "  padding: 5px;\n",
       "}\n",
       "\n",
       "/* Clear floats after image containers */\n",
       ".row::after {\n",
       "  content: \"\";\n",
       "  clear: both;\n",
       "  display: table;\n",
       "}\n",
       "        \n",
       ".reveal h1, .reveal h2, .reveal h3, .reveal h4{font-family: Roboto}\n",
       "</style>\n"
      ],
      "text/plain": [
       "<IPython.core.display.HTML object>"
      ]
     },
     "metadata": {},
     "output_type": "display_data"
    }
   ],
   "source": [
    "%%html\n",
    "<style>\n",
    "/* Three image containers (use 25% for four, and 50% for two, etc) */\n",
    ".column {\n",
    "  float: left;\n",
    "  width: 50%;\n",
    "  padding: 5px;\n",
    "}\n",
    "\n",
    "/* Clear floats after image containers */\n",
    ".row::after {\n",
    "  content: \"\";\n",
    "  clear: both;\n",
    "  display: table;\n",
    "}\n",
    "        \n",
    ".reveal h1, .reveal h2, .reveal h3, .reveal h4{font-family: Roboto}\n",
    "</style>"
   ]
  },
  {
   "cell_type": "markdown",
   "metadata": {
    "slideshow": {
     "slide_type": "slide"
    }
   },
   "source": [
    "# Model ewolucji sieci transportowej w zespole obiektów skorelowanych przestrzennie\n",
    "\n",
    "## Paulina Marikin\n",
    "\n",
    "### Opiekun: Dr hab. Piotr Fronczak, prof. PW"
   ]
  },
  {
   "cell_type": "markdown",
   "metadata": {
    "slideshow": {
     "slide_type": "slide"
    }
   },
   "source": [
    "## Plan prezentacji\n",
    "\n",
    "1. ...czyli\n",
    "2. Czym jest miasto?\n",
    "3. Model Barthélemy i Flammini\n",
    "4. Model perkolacji\n",
    "5. Model perkolacji z korelacjami\n",
    "5. Połączenie modeli\n",
    "6. Analiza wyników\n",
    "7. Implementacja"
   ]
  },
  {
   "cell_type": "markdown",
   "metadata": {
    "slideshow": {
     "slide_type": "slide"
    }
   },
   "source": [
    "## Model ewolucji sieci transportowej w zespole obiektów skorelowanych przestrzennie... czyli?\n",
    "\n",
    "\n",
    "<center><img src=\"prezentacja/londyn1.jpg\" alt=\"Londyn\" style=\"width:65%\" class=\"center\"></center>\n",
    "<span style=\"font-size:0.5em;\">https://superuser.com/questions/986724/</span>"
   ]
  },
  {
   "cell_type": "markdown",
   "metadata": {
    "slideshow": {
     "slide_type": "slide"
    }
   },
   "source": [
    "# Idea miasta\n",
    "\n",
    "<center><img src=\"prezentacja/ideal.jpg\" alt=\"ideał\" style=\"width:100%\"><center>\n",
    "<span style=\"font-size:0.5em;\">https://www.nytimes.com/2012/05/09/arts/09iht-conway09.html</span>"
   ]
  },
  {
   "cell_type": "markdown",
   "metadata": {
    "slideshow": {
     "slide_type": "subslide"
    }
   },
   "source": [
    "# Pierwsze modele - podział na dzielnice\n",
    "#### Model koncentryczny\n",
    "\n",
    "<center><img src=\"prezentacja/Burgess_model1.png\" alt=\"Model koncentryczny\" style=\"width:45%\"><center>\n",
    "<span style=\"font-size:0.5em;\">https://transportgeography.org/?page_id=4908</span>"
   ]
  },
  {
   "cell_type": "markdown",
   "metadata": {
    "slideshow": {
     "slide_type": "subslide"
    }
   },
   "source": [
    "# Pierwsze modele - podział na dzielnice\n",
    "#### Model wielordzeniowy\n",
    "\n",
    "<center><img src=\"prezentacja/Ulman.png\" alt=\"Model wielordzeniowy\" style=\"width:40%\"><center>\n",
    "<span style=\"font-size:0.5em;\">https://en.wikipedia.org/wiki/Chauncy_Harris</span>"
   ]
  },
  {
   "cell_type": "markdown",
   "metadata": {
    "slideshow": {
     "slide_type": "slide"
    }
   },
   "source": [
    "# Model Barthélemy i Flammini (2008)\n",
    "<img src=\"prezentacja/gauss.png\" alt=\"Przykładowa ewolucja\" style=\"width:45%\" class=\"center\">"
   ]
  },
  {
   "cell_type": "markdown",
   "metadata": {
    "slideshow": {
     "slide_type": "subslide"
    }
   },
   "source": [
    "# Model Barthélemy i Flammini\n",
    "\n",
    "- Budynki <img src=\"prezentacja/city.png\" alt=\"znak\" style=\"width:5%\">\n",
    "- Ulice <img src=\"prezentacja/streets.png\" alt=\"znak\" style=\"width:5%\">"
   ]
  },
  {
   "cell_type": "markdown",
   "metadata": {
    "slideshow": {
     "slide_type": "subslide"
    }
   },
   "source": [
    "# Model Barthélemy i Flammini\n",
    "\n",
    "<img src=\"prezentacja/straight1.gif\" alt=\"prosto\" style=\"width:45%\" class=\"center\">"
   ]
  },
  {
   "cell_type": "markdown",
   "metadata": {
    "slideshow": {
     "slide_type": "subslide"
    }
   },
   "source": [
    "# Model Barthélemy i Flammini\n",
    "\n",
    "<img src=\"prezentacja/turn.gif\" alt=\"w bok\" style=\"width:45%\" class=\"center\">"
   ]
  },
  {
   "cell_type": "markdown",
   "metadata": {
    "slideshow": {
     "slide_type": "subslide"
    }
   },
   "source": [
    "# Model Barthélemy i Flammini\n",
    "\n",
    "<img src=\"prezentacja/loop.gif\" alt=\"w bok\" style=\"width:45%\" class=\"center\">"
   ]
  },
  {
   "cell_type": "markdown",
   "metadata": {
    "slideshow": {
     "slide_type": "subslide"
    }
   },
   "source": [
    "# Model Barthélemy i Flammini\n",
    "\n",
    "<img src=\"prezentacja/cross3.gif\" alt=\"wiele budynków\" style=\"width:45%\">"
   ]
  },
  {
   "cell_type": "markdown",
   "metadata": {
    "slideshow": {
     "slide_type": "subslide"
    }
   },
   "source": [
    "# Model Barthélemy i Flammini\n",
    "\n",
    "<div class=\"row\">\n",
    "  <div class=\"column\">\n",
    "    <img src=\"prezentacja/cross4.gif\" alt=\"pętle\" style=\"width:100%\">\n",
    "  </div>\n",
    "  <div class=\"column\">\n",
    "    <img src=\"prezentacja/schemat1 (1).png\" alt=\"pętle\" style=\"width:100%\">\n",
    "      (Modeling urban street patterns - Marc Barthélemy and Alessandro Flammini)\n",
    "  </div>\n",
    "</div>"
   ]
  },
  {
   "cell_type": "markdown",
   "metadata": {
    "slideshow": {
     "slide_type": "subslide"
    }
   },
   "source": [
    "# Model Barthélemy i Flammini\n",
    "\n",
    "<img src=\"prezentacja/circa.gif\" alt=\"w bok\" style=\"width:45%\" class=\"center\">"
   ]
  },
  {
   "cell_type": "markdown",
   "metadata": {
    "slideshow": {
     "slide_type": "subslide"
    }
   },
   "source": [
    "# Model Barthélemy i Flammini\n",
    "\n",
    "<div class=\"row\">\n",
    "  <div class=\"column\">\n",
    "    <img src=\"prezentacja/circle.png\" alt=\"Przykładowa ewolucja\" style=\"width:75%\" class=\"center\">\n",
    "  </div>\n",
    "  <div class=\"column\">\n",
    "    <img src=\"prezentacja/gauss.png\" alt=\"Przykładowa ewolucja\" style=\"width:75%\" class=\"center\">\n",
    "  </div>\n",
    "</div>"
   ]
  },
  {
   "cell_type": "markdown",
   "metadata": {
    "slideshow": {
     "slide_type": "slide"
    }
   },
   "source": [
    "# Model perkolacyjny\n",
    "\n",
    "![Przykładowa perkolacja](prezentacja/perko1.png)"
   ]
  },
  {
   "cell_type": "markdown",
   "metadata": {
    "slideshow": {
     "slide_type": "subslide"
    }
   },
   "source": [
    "# Perkolacja\n",
    "### p=0.5\n",
    "<div class=\"row\">\n",
    "  <div class=\"column\">\n",
    "    <img src=\"prezentacja/perko2.png\" alt=\"losowe\" style=\"width:75%\">\n",
    "  </div>\n",
    "  <div class=\"column\">\n",
    "    <img src=\"prezentacja/perko3.png\" alt=\"perkolacja\" style=\"width:75%\">\n",
    "  </div>\n",
    "</div>"
   ]
  },
  {
   "cell_type": "markdown",
   "metadata": {
    "slideshow": {
     "slide_type": "notes"
    }
   },
   "source": [
    "metafory storczyków"
   ]
  },
  {
   "cell_type": "markdown",
   "metadata": {
    "slideshow": {
     "slide_type": "subslide"
    }
   },
   "source": [
    "# Perkolacja\n",
    "\n",
    "![Przykładowa perkolacja](prezentacja/perko.png)\n",
    "źródło: https://introcs.cs.princeton.edu/java/24percolation/"
   ]
  },
  {
   "cell_type": "markdown",
   "metadata": {
    "slideshow": {
     "slide_type": "subslide"
    }
   },
   "source": [
    "# Model perkolacyjny\n",
    "### $p=e^{-\\lambda/r}$\n",
    "\n",
    "<div class=\"row\">\n",
    "  <div class=\"column\">\n",
    "    <img src=\"prezentacja/perko_p.png\" alt=\"losowe\" style=\"width:100%\">\n",
    "  </div>\n",
    "  <div class=\"column\">\n",
    "    <img src=\"prezentacja/perko_rand_pow.png\" alt=\"perkolacja\" style=\"width:100%\">\n",
    "  </div>\n",
    "</div>"
   ]
  },
  {
   "cell_type": "markdown",
   "metadata": {
    "slideshow": {
     "slide_type": "slide"
    }
   },
   "source": [
    "# Model perkolacyjny z korelacjami przestrzennymi\n",
    "\n",
    "- Funkcja korelacji dwupunktowej: $C(\\vec{r})= (1+|\\vec{r}|^2)^{-\\alpha/2}$\n",
    "- $\\vec{r} = \\vec{r_1} - \\vec{r_2} $\n",
    "\n",
    "<img src=\"prezentacja/F_korelacji.png\" alt=\"Funkcja korelacji\" style=\"width:45%\" class=\"center\">"
   ]
  },
  {
   "cell_type": "markdown",
   "metadata": {
    "slideshow": {
     "slide_type": "subslide"
    }
   },
   "source": [
    "# Model perkolacyjny z korelacjami przestrzennymi\n",
    "\n",
    "Zmienne losowe $u(r) \\rightarrow u(k)$\n",
    "\n",
    "$$C(r) \\rightarrow S(k)$$\n",
    "$$\\eta(k)=S(k)^{1/2} u(k)$$\n",
    "$$\\eta(k) \\rightarrow \\eta(r)$$"
   ]
  },
  {
   "cell_type": "markdown",
   "metadata": {
    "slideshow": {
     "slide_type": "subslide"
    }
   },
   "source": [
    "# Model perkolacyjny z korelacjami przestrzennymi\n",
    "\n",
    "<div class=\"row\">\n",
    "  <div class=\"column\">\n",
    "    <img src=\"prezentacja/perko_lowcor.png\" alt=\"losowe\" style=\"width:75%\">\n",
    "  </div>\n",
    "  <div class=\"column\">\n",
    "    <img src=\"prezentacja/perko_higcor.png\" alt=\"perkolacja\" style=\"width:75%\">\n",
    "  </div>\n",
    "</div>"
   ]
  },
  {
   "cell_type": "markdown",
   "metadata": {
    "slideshow": {
     "slide_type": "slide"
    }
   },
   "source": [
    "# Połączenie modeli\n",
    "\n",
    "<div class=\"row\">\n",
    "  <div class=\"column\">\n",
    "    <img src=\"prezentacja/perko_lowcor.png\" alt=\"losowe\" style=\"width:75%\">\n",
    "  </div>\n",
    "  <div class=\"column\">\n",
    "    <img src=\"prezentacja/perko_lowcor_points1.png\" alt=\"perkolacja\" style=\"width:75%\">\n",
    "  </div>\n",
    "</div>"
   ]
  },
  {
   "cell_type": "markdown",
   "metadata": {
    "slideshow": {
     "slide_type": "subslide"
    }
   },
   "source": [
    "# Połączenie modeli\n",
    "\n",
    "<img src=\"prezentacja/perco.gif\" alt=\"Spływanie\" style=\"width:45%\" class=\"center\">"
   ]
  },
  {
   "cell_type": "markdown",
   "metadata": {
    "slideshow": {
     "slide_type": "subslide"
    }
   },
   "source": [
    "# Połączenie modeli\n",
    "\n",
    "<img src=\"prezentacja/perco2.gif\" alt=\"Ładne\" style=\"width:45%\" class=\"center\">"
   ]
  },
  {
   "cell_type": "markdown",
   "metadata": {
    "slideshow": {
     "slide_type": "subslide"
    }
   },
   "source": [
    "# Połączenie modeli\n",
    "\n",
    "<div class=\"row\">\n",
    "  <div class=\"column\">\n",
    "    <img src=\"prezentacja/perco2_sym.png\" alt=\"Ładne2\" style=\"width:80%\" class=\"center\">\n",
    "  </div>\n",
    "  <div class=\"column\">\n",
    "    <img src=\"prezentacja/schemat2.png\" alt=\"sokołów\" style=\"width:100%\" class=\"center\">\n",
    "  </div>\n",
    "  (grafika: wykłady prof. Fronczaka)\n",
    "</div>\n"
   ]
  },
  {
   "cell_type": "markdown",
   "metadata": {
    "slideshow": {
     "slide_type": "slide"
    }
   },
   "source": [
    "# Analiza wyników\n",
    "## Wyniki Barthélemy i Flammini\n",
    "<img src=\"prezentacja/wykres2.png\" alt=\"anal\" style=\"width:70%\" class=\"center\">\n",
    "<span style=\"font-size:0.65em;\">a) Liczba odcinków dróg a liczba obiektów (budynki i skrzyżowania)\n",
    " b) sumaryczna długość dróg a liczba obiektów</span>"
   ]
  },
  {
   "cell_type": "markdown",
   "metadata": {
    "slideshow": {
     "slide_type": "subslide"
    }
   },
   "source": [
    "# Analiza wyników\n",
    "## Wyniki Barthélemy i Flammini\n",
    "<img src=\"prezentacja/wykres1.png\" alt=\"anal\" style=\"width:50%\" class=\"center\">\n",
    "Rozkład wielkości zamkniętych komórek"
   ]
  },
  {
   "cell_type": "markdown",
   "metadata": {
    "slideshow": {
     "slide_type": "slide"
    }
   },
   "source": [
    "# Implementacja\n",
    "### Symulacja:\n",
    "- python3\n",
    "- numpy - model perkolacyjny\n",
    "- scipy.spatial - model Barthélemy i Flammini\n",
    "- numba - optymalizacja"
   ]
  },
  {
   "cell_type": "markdown",
   "metadata": {
    "slideshow": {
     "slide_type": "subslide"
    }
   },
   "source": [
    "# Implementacja\n",
    "### Wizualizacja:\n",
    "- matplotlib\n",
    "- ffmpeg"
   ]
  },
  {
   "cell_type": "markdown",
   "metadata": {
    "slideshow": {
     "slide_type": "subslide"
    }
   },
   "source": [
    "# Implementacja\n",
    "- Pasek postępu: tqdm\n",
    "- Testy integracyjne: pytest\n",
    "- Kontrola wersji: git i github\n",
    "  - https://github.com/MarikinPaulina/road-simulator"
   ]
  },
  {
   "cell_type": "markdown",
   "metadata": {
    "slideshow": {
     "slide_type": "slide"
    }
   },
   "source": [
    "# Podziękowania"
   ]
  },
  {
   "cell_type": "code",
   "execution_count": 2,
   "metadata": {},
   "outputs": [
    {
     "name": "stderr",
     "output_type": "stream",
     "text": [
      "  0%|          | 0/10000 [00:00<?, ?it/s]\n"
     ]
    },
    {
     "ename": "NameError",
     "evalue": "name 'sleep' is not defined",
     "output_type": "error",
     "traceback": [
      "\u001b[0;31m---------------------------------------------------------------------------\u001b[0m",
      "\u001b[0;31mNameError\u001b[0m                                 Traceback (most recent call last)",
      "\u001b[0;32m<ipython-input-2-2fb0b570fbe3>\u001b[0m in \u001b[0;36m<module>\u001b[0;34m\u001b[0m\n\u001b[1;32m      1\u001b[0m \u001b[0;32mfrom\u001b[0m \u001b[0mtqdm\u001b[0m \u001b[0;32mimport\u001b[0m \u001b[0mtqdm\u001b[0m\u001b[0;34m\u001b[0m\u001b[0;34m\u001b[0m\u001b[0m\n\u001b[1;32m      2\u001b[0m \u001b[0;32mfor\u001b[0m \u001b[0mi\u001b[0m \u001b[0;32min\u001b[0m \u001b[0mtqdm\u001b[0m\u001b[0;34m(\u001b[0m\u001b[0mrange\u001b[0m\u001b[0;34m(\u001b[0m\u001b[0;36m10000\u001b[0m\u001b[0;34m)\u001b[0m\u001b[0;34m)\u001b[0m\u001b[0;34m:\u001b[0m\u001b[0;34m\u001b[0m\u001b[0;34m\u001b[0m\u001b[0m\n\u001b[0;32m----> 3\u001b[0;31m     \u001b[0msleep\u001b[0m\u001b[0;34m(\u001b[0m\u001b[0;36m1\u001b[0m\u001b[0;34m)\u001b[0m\u001b[0;34m\u001b[0m\u001b[0;34m\u001b[0m\u001b[0m\n\u001b[0m",
      "\u001b[0;31mNameError\u001b[0m: name 'sleep' is not defined"
     ]
    }
   ],
   "source": [
    "\n",
    "from tqdm import tqdm"
   ]
  },
  {
   "cell_type": "code",
   "execution_count": null,
   "metadata": {},
   "outputs": [],
   "source": []
  },
  {
   "cell_type": "markdown",
   "metadata": {
    "slideshow": {
     "slide_type": "slide"
    }
   },
   "source": [
    "# Dziękuję!"
   ]
  },
  {
   "cell_type": "code",
   "execution_count": null,
   "metadata": {},
   "outputs": [],
   "source": []
  },
  {
   "cell_type": "markdown",
   "metadata": {
    "slideshow": {
     "slide_type": "notes"
    }
   },
   "source": [
    "![Paulina](https://images.unsplash.com/photo-1508138221679-760a23a2285b?ixlib=rb-1.2.1&ixid=eyJhcHBfaWQiOjEyMDd9&w=1000&q=80)"
   ]
  },
  {
   "cell_type": "code",
   "execution_count": 2,
   "metadata": {
    "slideshow": {
     "slide_type": "notes"
    }
   },
   "outputs": [
    {
     "data": {
      "image/jpeg": "[encoded data removed]",
      "text/html": [
       "\n",
       "        <iframe\n",
       "            width=\"400\"\n",
       "            height=\"300\"\n",
       "            src=\"https://www.youtube.com/embed/fF8S9B8bCp4\"\n",
       "            frameborder=\"0\"\n",
       "            allowfullscreen\n",
       "        ></iframe>\n",
       "        "
      ],
      "text/plain": [
       "<IPython.lib.display.YouTubeVideo at 0x7efc5c4499b0>"
      ]
     },
     "execution_count": 2,
     "metadata": {},
     "output_type": "execute_result"
    }
   ],
   "source": [
    "from IPython.display import YouTubeVideo\n",
    "YouTubeVideo(\"fF8S9B8bCp4\")"
   ]
  },
  {
   "cell_type": "code",
   "execution_count": 3,
   "metadata": {
    "slideshow": {
     "slide_type": "skip"
    }
   },
   "outputs": [
    {
     "data": {
      "text/html": [
       "<video src=\"perco20.mp4\" controls  width=\"360\"  height=\"360\">\n",
       "      Your browser does not support the <code>video</code> element.\n",
       "    </video>"
      ],
      "text/plain": [
       "<IPython.core.display.Video object>"
      ]
     },
     "execution_count": 3,
     "metadata": {},
     "output_type": "execute_result"
    }
   ],
   "source": [
    "from IPython import display\n",
    "display.Video(\"perco20.mp4\", width=360, height=360)"
   ]
  }
 ],
 "metadata": {
  "celltoolbar": "Slideshow",
  "kernelspec": {
   "display_name": "Python 3",
   "language": "python",
   "name": "python3"
  },
  "language_info": {
   "codemirror_mode": {
    "name": "ipython",
    "version": 3
   },
   "file_extension": ".py",
   "mimetype": "text/x-python",
   "name": "python",
   "nbconvert_exporter": "python",
   "pygments_lexer": "ipython3",
   "version": "3.7.3"
  }
 },
 "nbformat": 4,
 "nbformat_minor": 2
}
