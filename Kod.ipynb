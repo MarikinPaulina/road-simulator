{
 "cells": [
  {
   "cell_type": "code",
   "execution_count": 1,
   "metadata": {},
   "outputs": [],
   "source": [
    "from scipy.spatial import ckdtree\n",
    "import numpy as np\n",
    "from tqdm import tqdm_notebook as tqdm\n",
    "import matplotlib.pyplot as plt"
   ]
  },
  {
   "cell_type": "code",
   "execution_count": 2,
   "metadata": {},
   "outputs": [],
   "source": [
    "l = 1\n",
    "d = 5e-3*l\n",
    "epsilon = d*1e-1#1e-2*d"
   ]
  },
  {
   "cell_type": "code",
   "execution_count": 3,
   "metadata": {},
   "outputs": [],
   "source": [
    "N = 4 #number of vertexes\n",
    "M = 100 #number of segment adding iteration between adding vertices"
   ]
  },
  {
   "cell_type": "code",
   "execution_count": 17,
   "metadata": {},
   "outputs": [],
   "source": [
    "def random_vertex():\n",
    "    x, y = np.random.random(2)*2*l-l\n",
    "    return np.array([x,y])\n",
    "\n",
    "def find_segments(vertices, segments):\n",
    "    active_segments = [] #segmenty które będą się rozrastać\n",
    "    segments_vertices = [] #krawędzie do których będzie rozrastać się segment na odpowiednim miejscu powyżej\n",
    "    tree = ckdtree.cKDTree(segments)\n",
    "    for i in range(len(vertices)):\n",
    "        dist, nearest_segments = tree.query(vertices[i],5)\n",
    "        close = [True]\n",
    "        close.extend((np.diff(dist)<epsilon).tolist())\n",
    "        for s in nearest_segments[close]:\n",
    "            active_segments.append(s)\n",
    "            segments_vertices.append([i])\n",
    "#             if s in active_segments:\n",
    "# #                 index = active_segments.index(s)\n",
    "# #                 segments_vertices[index].extend([i])\n",
    "#                 active_segments.append(s)\n",
    "#                 segments_vertices.append([i])\n",
    "#             else:\n",
    "#                 active_segments.append(s)\n",
    "#                 segments_vertices.append([i])\n",
    "    \n",
    "    return active_segments, segments_vertices"
   ]
  },
  {
   "cell_type": "code",
   "execution_count": 18,
   "metadata": {},
   "outputs": [
    {
     "data": {
      "application/vnd.jupyter.widget-view+json": {
       "model_id": "1a6b72f279ae45f08f6010143f5e1d8a",
       "version_major": 2,
       "version_minor": 0
      },
      "text/plain": [
       "HBox(children=(IntProgress(value=0, max=4), HTML(value='')))"
      ]
     },
     "metadata": {},
     "output_type": "display_data"
    },
    {
     "name": "stdout",
     "output_type": "stream",
     "text": [
      "\n"
     ]
    },
    {
     "name": "stderr",
     "output_type": "stream",
     "text": [
      "/home/paulina/.anaconda3/lib/python3.6/site-packages/ipykernel_launcher.py:37: RuntimeWarning: invalid value encountered in less\n"
     ]
    }
   ],
   "source": [
    "segments = [(0,0),(0,1)]\n",
    "active_vertices = []\n",
    "for n in tqdm(range(N)):\n",
    "    active_vertices.append(random_vertex())\n",
    "    active_segments, segments_vertices = find_segments(active_vertices, segments)\n",
    "\n",
    "\n",
    "#     for m in range(M):\n",
    "#         if (len(active_segments)-len(segments_vertices)) != 0:\n",
    "#             print(\"alarm\")\n",
    "#         for i in range(len(active_segments)):\n",
    "#             del_x = active_vertices[segments_vertices[i][0]][0] - active_segments[i][0]\n",
    "#             del_y = active_vertices[segments_vertices[i][0]][1] - active_segments[i][1]\n",
    "#             r = (del_x**2 + del_y**2)**0.5\n",
    "#             if r > epsilon:\n",
    "#                 new_seg = (active_segments[i][0]+del_x*d/r,active_segments[i][1]+del_y*d/r)\n",
    "#                 segments.append(new_seg)\n",
    "#                 active_segments[i] = new_seg\n",
    "#             else:\n",
    "#                 active_vertices.remove(active_vertices[segments_vertices[i]])\n",
    "#                 active_segments.remove(active_segments[i])\n",
    "#                 segments_vertices.remove([i])\n",
    "        \n",
    "# np.append(segments,[[0,epsilon]],0)\n",
    "active_vertices = np.vstack(active_vertices).T\n",
    "segments = np.vstack(np.array(segments)).T"
   ]
  },
  {
   "cell_type": "code",
   "execution_count": 16,
   "metadata": {},
   "outputs": [
    {
     "data": {
      "text/plain": [
       "list"
      ]
     },
     "execution_count": 16,
     "metadata": {},
     "output_type": "execute_result"
    }
   ],
   "source": [
    "type(close)"
   ]
  },
  {
   "cell_type": "code",
   "execution_count": 19,
   "metadata": {},
   "outputs": [
    {
     "data": {
      "text/plain": [
       "[<matplotlib.lines.Line2D at 0x7fd4c648c358>]"
      ]
     },
     "execution_count": 19,
     "metadata": {},
     "output_type": "execute_result"
    },
    {
     "data": {
      "image/png": "[encoded data removed]",
      "text/plain": [
       "<Figure size 1080x1080 with 1 Axes>"
      ]
     },
     "metadata": {
      "needs_background": "light"
     },
     "output_type": "display_data"
    }
   ],
   "source": [
    "fig = plt.figure(figsize=[15,15])\n",
    "plt.plot(segments[0],segments[1],'.')\n",
    "plt.plot(active_vertices[0],active_vertices[1],'o')\n",
    "# plt.savefig(\"cos.png\")"
   ]
  },
  {
   "cell_type": "code",
   "execution_count": 16,
   "metadata": {},
   "outputs": [
    {
     "data": {
      "text/plain": [
       "True"
      ]
     },
     "execution_count": 16,
     "metadata": {},
     "output_type": "execute_result"
    }
   ],
   "source": [
    "tup = (2,3)\n",
    "tup2 = (7,5)\n",
    "tuptup = [tup,tup2]\n",
    "tup in tuptup"
   ]
  }
 ],
 "metadata": {
  "kernelspec": {
   "display_name": "Python 3",
   "language": "python",
   "name": "python3"
  },
  "language_info": {
   "codemirror_mode": {
    "name": "ipython",
    "version": 3
   },
   "file_extension": ".py",
   "mimetype": "text/x-python",
   "name": "python",
   "nbconvert_exporter": "python",
   "pygments_lexer": "ipython3",
   "version": "3.6.7"
  }
 },
 "nbformat": 4,
 "nbformat_minor": 2
}
