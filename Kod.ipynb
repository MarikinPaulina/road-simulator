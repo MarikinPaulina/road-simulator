{
 "cells": [
  {
   "cell_type": "code",
   "execution_count": 1,
   "metadata": {},
   "outputs": [],
   "source": [
    "from scipy.spatial import ckdtree\n",
    "import numpy as np\n",
    "from tqdm import tqdm_notebook as tqdm\n",
    "# %matplotlib widget\n",
    "import matplotlib.pyplot as plt\n",
    "from matplotlib.animation import FuncAnimation\n",
    "from Visual import animated_frames, save_frames"
   ]
  },
  {
   "cell_type": "code",
   "execution_count": 2,
   "metadata": {},
   "outputs": [],
   "source": [
    "l = 1\n",
    "d = l*2e-3\n",
    "epsilon = d*2e-3"
   ]
  },
  {
   "cell_type": "code",
   "execution_count": 3,
   "metadata": {},
   "outputs": [],
   "source": [
    "N = 200 #number of vertexes\n",
    "Frames = 10 #number of frames between adding vercites\n",
    "M = 100 #number of segment adding iteration between adding vertices\n",
    "M = int(M/Frames)"
   ]
  },
  {
   "cell_type": "code",
   "execution_count": 18,
   "metadata": {},
   "outputs": [],
   "source": [
    "def random_vertex():\n",
    "    x, y = np.random.random(2)*2*l-l\n",
    "    return np.array([x,y])\n",
    "\n",
    "def find_segments(vertices, segments):\n",
    "    active_segments = [] #segmenty które będą się rozrastać\n",
    "    segments_vertices = [] #krawędzie do których będzie rozrastać się segment na odpowiednim miejscu powyżej\n",
    "    tree = ckdtree.cKDTree(segments)\n",
    "    for i in range(len(vertices)-1,-1,-1):\n",
    "        dist, nearest_segments = tree.query(vertices[i])\n",
    "        if dist < d:\n",
    "            del vertices[i]\n",
    "    for i in range(len(vertices)):\n",
    "        dist, nearest_segments = tree.query(vertices[i],5)\n",
    "        close = ((dist-dist[0])<epsilon)\n",
    "        for s in nearest_segments[close]:\n",
    "            if segments[s] in active_segments:\n",
    "                index = active_segments.index(segments[s])\n",
    "                segments_vertices[index].extend([i])\n",
    "            else:\n",
    "                active_segments.append(segments[s])\n",
    "                segments_vertices.append([i])\n",
    "    \n",
    "    return active_segments, segments_vertices\n",
    "\n",
    "def segment_adding(M:int,active_vertices,active_segments,segments_vertices,segments,visual):\n",
    "    for m in range(M):\n",
    "        for i in range(len(active_segments)-1, -1, -1):\n",
    "            dist_x = 0\n",
    "            dist_y = 0\n",
    "            r_list = []\n",
    "            for j in range(len(segments_vertices[i])):\n",
    "                x = active_vertices[segments_vertices[i][j]][0] - active_segments[i][0]\n",
    "                y = active_vertices[segments_vertices[i][j]][1] - active_segments[i][1]\n",
    "                dist_x += x\n",
    "                dist_y += y\n",
    "                r_list.append((x**2 + y**2)**0.5)\n",
    "            r = (dist_x**2 + dist_y**2)**0.5\n",
    "            if r > d:\n",
    "                new_seg = (active_segments[i][0]+dist_x*d/r,active_segments[i][1]+dist_y*d/r)\n",
    "#                 print(((dist_x/r*d)**2+(dist_y/r*d)**2)**0.5)\n",
    "                segments.append(new_seg)\n",
    "                visual.append([active_segments[i],new_seg])\n",
    "                active_segments[i] = new_seg\n",
    "            else:\n",
    "                closest_id = r_list.index(min(r_list))\n",
    "                vertex = segments_vertices[i][closest_id]\n",
    "                del segments_vertices[i][closest_id]\n",
    "                if len(segments_vertices[i]) == 0:\n",
    "                    del segments_vertices[i]\n",
    "                    del active_segments[i]\n",
    "                else:\n",
    "                    x = active_vertices[vertex][0] - active_segments[i][0]\n",
    "                    y = active_vertices[vertex][1] - active_segments[i][1]\n",
    "                    r = r_list[closest_id]\n",
    "                    new_seg = (active_segments[i][0]+x*d/r,active_segments[i][1]+y*d/r)\n",
    "                    segments.append(new_seg)\n",
    "                    visual.append([active_segments[i],new_seg])\n",
    "                    active_segments.append(new_seg)\n",
    "                    segments_vertices.append([vertex])\n",
    "                    \n",
    "#                         segments_vertices.remove(segments_vertices[i])\n",
    "#                         active_segments.remove(active_segments[i])"
   ]
  },
  {
   "cell_type": "code",
   "execution_count": 19,
   "metadata": {},
   "outputs": [],
   "source": [
    "def run(N=N,M=M,visualization=None):\n",
    "    segments = [(0,0)]\n",
    "    active_vertices = []\n",
    "    visual = []\n",
    "    animation_vertices = []\n",
    "    animation_segments = []\n",
    "    for n in tqdm(range(N)):\n",
    "        active_vertices.append(random_vertex())\n",
    "        active_segments, segments_vertices = find_segments(active_vertices, segments)\n",
    "        for f in range(Frames):\n",
    "            segment_adding(M,active_vertices,active_segments,segments_vertices,segments,visual)\n",
    "            if len(active_segments) != 0:\n",
    "                animation_vertices.append(np.array(active_vertices.copy()))\n",
    "                animation_segments.append(np.array(visual.copy()))\n",
    "\n",
    "    active_segments, segments_vertices = find_segments(active_vertices, segments)\n",
    "    animation_vertices.append(np.array(active_vertices.copy()))\n",
    "    animation_segments.append(np.array(visual.copy()))\n",
    "\n",
    "    # active_vertices = np.vstack(active_vertices).T\n",
    "    segments = np.vstack(np.array(segments)).T\n",
    "    if visualization == 'end_picture':\n",
    "        visual = np.array(visual).T\n",
    "        return visual,active_vertices\n",
    "    elif visualization == 'animation':\n",
    "        return [animation_segments,animation_vertices]"
   ]
  },
  {
   "cell_type": "code",
   "execution_count": 20,
   "metadata": {},
   "outputs": [
    {
     "data": {
      "application/vnd.jupyter.widget-view+json": {
       "model_id": "def7b2c5866644759cf9bff7077ccd03",
       "version_major": 2,
       "version_minor": 0
      },
      "text/plain": [
       "HBox(children=(IntProgress(value=0, max=200), HTML(value='')))"
      ]
     },
     "metadata": {},
     "output_type": "display_data"
    },
    {
     "name": "stdout",
     "output_type": "stream",
     "text": [
      "\n"
     ]
    }
   ],
   "source": [
    "animation_segments,animation_vertices = run(N,M,visualization='animation')\n",
    "# visual,active_ver = run(N,M,visualization='end_picture')"
   ]
  },
  {
   "cell_type": "code",
   "execution_count": 21,
   "metadata": {},
   "outputs": [
    {
     "data": {
      "application/vnd.jupyter.widget-view+json": {
       "model_id": "19c36e44d003480b921440e3d32a178f",
       "version_major": 2,
       "version_minor": 0
      },
      "text/plain": [
       "FigureCanvasNbAgg()"
      ]
     },
     "metadata": {},
     "output_type": "display_data"
    },
    {
     "data": {
      "application/vnd.jupyter.widget-view+json": {
       "model_id": "e33d2ef793e64e2190c4501a50beb601",
       "version_major": 2,
       "version_minor": 0
      },
      "text/plain": [
       "IntSlider(value=0, max=899)"
      ]
     },
     "metadata": {},
     "output_type": "display_data"
    },
    {
     "data": {
      "application/vnd.jupyter.widget-view+json": {
       "model_id": "4eb651a393e0428496760a4750699c21",
       "version_major": 2,
       "version_minor": 0
      },
      "text/plain": [
       "interactive(children=(Play(value=0, description='Press play', interval=200, max=899), Output()), _dom_classes=…"
      ]
     },
     "metadata": {},
     "output_type": "display_data"
    },
    {
     "data": {
      "text/plain": [
       "<function Functions.animated_frames.<locals>.update(f:int=0)>"
      ]
     },
     "execution_count": 21,
     "metadata": {},
     "output_type": "execute_result"
    }
   ],
   "source": [
    "# save_frames(animation_segments, animation_vertices,\"multi_vertices_2\")\n",
    "# %matplotlib widget\n",
    "animated_frames(animation_segments, animation_vertices)"
   ]
  },
  {
   "cell_type": "code",
   "execution_count": 9,
   "metadata": {},
   "outputs": [
    {
     "data": {
      "text/plain": [
       "array([[[ 0.        ,  0.        ],\n",
       "        [-0.00655748, -0.0075498 ]],\n",
       "\n",
       "       [[-0.00655748, -0.0075498 ],\n",
       "        [-0.01311496, -0.0150996 ]],\n",
       "\n",
       "       [[-0.01311496, -0.0150996 ],\n",
       "        [-0.01967244, -0.0226494 ]],\n",
       "\n",
       "       ...,\n",
       "\n",
       "       [[ 0.29774915,  0.63822203],\n",
       "        [ 0.3048991 ,  0.63123073]],\n",
       "\n",
       "       [[ 0.3048991 ,  0.63123073],\n",
       "        [ 0.31204905,  0.62423944]],\n",
       "\n",
       "       [[ 0.31204905,  0.62423944],\n",
       "        [ 0.319199  ,  0.61724814]]])"
      ]
     },
     "execution_count": 9,
     "metadata": {},
     "output_type": "execute_result"
    }
   ],
   "source": [
    "# animation(animation_segments,animation_vertices,\"anim\")\n",
    "# for i in animation_segments:\n",
    "#     print(len(i))\n",
    "# plt.plot(animation_vertices[0].T[0],animation_vertices.T[1],'o')\n",
    "# plt.plot(animation_segments[0][0].T[0],animation_segments[0][0].T[1])\n",
    "# animation_vertices\n",
    "animation_segments[-1]"
   ]
  },
  {
   "cell_type": "code",
   "execution_count": 10,
   "metadata": {},
   "outputs": [
    {
     "data": {
      "application/vnd.jupyter.widget-view+json": {
       "model_id": "7aa24abf978545638dfa031876613ec0",
       "version_major": 2,
       "version_minor": 0
      },
      "text/plain": [
       "FigureCanvasNbAgg()"
      ]
     },
     "metadata": {},
     "output_type": "display_data"
    },
    {
     "ename": "NameError",
     "evalue": "name 'visual' is not defined",
     "output_type": "error",
     "traceback": [
      "\u001b[0;31m---------------------------------------------------------------------------\u001b[0m",
      "\u001b[0;31mNameError\u001b[0m                                 Traceback (most recent call last)",
      "\u001b[0;32m<ipython-input-10-7a452e28af3a>\u001b[0m in \u001b[0;36m<module>\u001b[0;34m\u001b[0m\n\u001b[1;32m      1\u001b[0m \u001b[0mfig\u001b[0m \u001b[0;34m=\u001b[0m \u001b[0mplt\u001b[0m\u001b[0;34m.\u001b[0m\u001b[0mfigure\u001b[0m\u001b[0;34m(\u001b[0m\u001b[0mfigsize\u001b[0m\u001b[0;34m=\u001b[0m\u001b[0;34m[\u001b[0m\u001b[0;36m15\u001b[0m\u001b[0;34m,\u001b[0m\u001b[0;36m15\u001b[0m\u001b[0;34m]\u001b[0m\u001b[0;34m)\u001b[0m\u001b[0;34m\u001b[0m\u001b[0;34m\u001b[0m\u001b[0m\n\u001b[1;32m      2\u001b[0m \u001b[0;31m# plt.plot(segments[0],segments[1],'.')\u001b[0m\u001b[0;34m\u001b[0m\u001b[0;34m\u001b[0m\u001b[0;34m\u001b[0m\u001b[0m\n\u001b[0;32m----> 3\u001b[0;31m \u001b[0mplt\u001b[0m\u001b[0;34m.\u001b[0m\u001b[0mplot\u001b[0m\u001b[0;34m(\u001b[0m\u001b[0mvisual\u001b[0m\u001b[0;34m[\u001b[0m\u001b[0;36m0\u001b[0m\u001b[0;34m]\u001b[0m\u001b[0;34m,\u001b[0m\u001b[0mvisual\u001b[0m\u001b[0;34m[\u001b[0m\u001b[0;36m1\u001b[0m\u001b[0;34m]\u001b[0m\u001b[0;34m)\u001b[0m\u001b[0;34m\u001b[0m\u001b[0;34m\u001b[0m\u001b[0m\n\u001b[0m\u001b[1;32m      4\u001b[0m \u001b[0;32mif\u001b[0m \u001b[0mactive_vertices\u001b[0m \u001b[0;34m!=\u001b[0m \u001b[0;34m[\u001b[0m\u001b[0;34m]\u001b[0m\u001b[0;34m:\u001b[0m\u001b[0;34m\u001b[0m\u001b[0;34m\u001b[0m\u001b[0m\n\u001b[1;32m      5\u001b[0m     \u001b[0mplt\u001b[0m\u001b[0;34m.\u001b[0m\u001b[0mplot\u001b[0m\u001b[0;34m(\u001b[0m\u001b[0mactive_vertices\u001b[0m\u001b[0;34m[\u001b[0m\u001b[0;36m0\u001b[0m\u001b[0;34m]\u001b[0m\u001b[0;34m,\u001b[0m\u001b[0mactive_vertices\u001b[0m\u001b[0;34m[\u001b[0m\u001b[0;36m1\u001b[0m\u001b[0;34m]\u001b[0m\u001b[0;34m,\u001b[0m\u001b[0;34m'o'\u001b[0m\u001b[0;34m)\u001b[0m\u001b[0;34m\u001b[0m\u001b[0;34m\u001b[0m\u001b[0m\n",
      "\u001b[0;31mNameError\u001b[0m: name 'visual' is not defined"
     ]
    }
   ],
   "source": [
    "fig = plt.figure(figsize=[15,15])\n",
    "# plt.plot(segments[0],segments[1],'.')\n",
    "plt.plot(visual[0],visual[1])\n",
    "if active_vertices != []:\n",
    "    plt.plot(active_vertices[0],active_vertices[1],'o')\n",
    "# plt.savefig(\"takze_tego1.png\")"
   ]
  },
  {
   "cell_type": "code",
   "execution_count": 11,
   "metadata": {},
   "outputs": [
    {
     "data": {
      "application/vnd.jupyter.widget-view+json": {
       "model_id": "",
       "version_major": 2,
       "version_minor": 0
      },
      "text/plain": [
       "FigureCanvasNbAgg()"
      ]
     },
     "metadata": {},
     "output_type": "display_data"
    },
    {
     "ename": "NameError",
     "evalue": "name 'visual' is not defined",
     "output_type": "error",
     "traceback": [
      "\u001b[0;31m---------------------------------------------------------------------------\u001b[0m",
      "\u001b[0;31mNameError\u001b[0m                                 Traceback (most recent call last)",
      "\u001b[0;32m<ipython-input-11-9b44807f40ac>\u001b[0m in \u001b[0;36m<module>\u001b[0;34m\u001b[0m\n\u001b[1;32m      3\u001b[0m \u001b[0;31m# plt.plot(visual[0],visual[1])\u001b[0m\u001b[0;34m\u001b[0m\u001b[0;34m\u001b[0m\u001b[0;34m\u001b[0m\u001b[0m\n\u001b[1;32m      4\u001b[0m \u001b[0mplt\u001b[0m\u001b[0;34m.\u001b[0m\u001b[0mplot\u001b[0m\u001b[0;34m(\u001b[0m\u001b[0mvis\u001b[0m\u001b[0;34m[\u001b[0m\u001b[0;36m0\u001b[0m\u001b[0;34m]\u001b[0m\u001b[0;34m,\u001b[0m\u001b[0mvis\u001b[0m\u001b[0;34m[\u001b[0m\u001b[0;36m1\u001b[0m\u001b[0;34m]\u001b[0m\u001b[0;34m)\u001b[0m\u001b[0;34m\u001b[0m\u001b[0;34m\u001b[0m\u001b[0m\n\u001b[0;32m----> 5\u001b[0;31m \u001b[0mprint\u001b[0m\u001b[0;34m(\u001b[0m\u001b[0mvisual\u001b[0m\u001b[0;34m.\u001b[0m\u001b[0mshape\u001b[0m\u001b[0;34m)\u001b[0m\u001b[0;34m\u001b[0m\u001b[0;34m\u001b[0m\u001b[0m\n\u001b[0m",
      "\u001b[0;31mNameError\u001b[0m: name 'visual' is not defined"
     ]
    }
   ],
   "source": [
    "fig = plt.figure(figsize=[10,10])\n",
    "vis = np.swapaxes(animation_segments[-10],0,2)\n",
    "# plt.plot(visual[0],visual[1])\n",
    "plt.plot(vis[0],vis[1])\n",
    "print(visual.shape)"
   ]
  },
  {
   "cell_type": "code",
   "execution_count": 52,
   "metadata": {},
   "outputs": [],
   "source": [
    "def test_run(N=N,M=M,visualization=None):\n",
    "    segments = [(0,0),(-d/np.sqrt(2),d/np.sqrt(2)),(d/np.sqrt(2),-d/np.sqrt(2))]\n",
    "    active_vertices = [np.array([1,1])]\n",
    "#     segments = [(0,0),(0,d),(0,-d)]\n",
    "#     active_vertices = [np.array([1,0])]\n",
    "    visual = []\n",
    "    animation_vertices = []\n",
    "    animation_segments = []\n",
    "    active_segments, segments_vertices = find_segments(active_vertices, segments)\n",
    "    for f in range(Frames):\n",
    "        segment_adding(M,active_vertices,active_segments,segments_vertices,segments,visual)\n",
    "        if len(active_segments) != 0:\n",
    "            animation_vertices.append(np.array(active_vertices.copy()))\n",
    "            animation_segments.append(np.array(visual.copy()))\n",
    "\n",
    "    active_segments, segments_vertices = find_segments(active_vertices, segments)\n",
    "    animation_vertices.append(np.array(active_vertices.copy()))\n",
    "    animation_segments.append(np.array(visual.copy()))\n",
    "\n",
    "    # active_vertices = np.vstack(active_vertices).T\n",
    "    segments = np.vstack(np.array(segments)).T\n",
    "    if visualization == 'end_picture':\n",
    "        visual = np.array(visual).T\n",
    "        return visual,active_vertices\n",
    "    elif visualization == 'animation':\n",
    "        return [animation_segments,animation_vertices]"
   ]
  },
  {
   "cell_type": "code",
   "execution_count": 53,
   "metadata": {},
   "outputs": [],
   "source": [
    "animation_segments,animation_vertices = test_run(N,M,visualization='animation')"
   ]
  },
  {
   "cell_type": "code",
   "execution_count": 54,
   "metadata": {},
   "outputs": [
    {
     "data": {
      "application/vnd.jupyter.widget-view+json": {
       "model_id": "",
       "version_major": 2,
       "version_minor": 0
      },
      "text/plain": [
       "FigureCanvasNbAgg()"
      ]
     },
     "metadata": {},
     "output_type": "display_data"
    },
    {
     "data": {
      "application/vnd.jupyter.widget-view+json": {
       "model_id": "6b713bce39034e2a93753c78b505c0a5",
       "version_major": 2,
       "version_minor": 0
      },
      "text/plain": [
       "IntSlider(value=0, max=10)"
      ]
     },
     "metadata": {},
     "output_type": "display_data"
    },
    {
     "data": {
      "application/vnd.jupyter.widget-view+json": {
       "model_id": "3a6b862f36044599bc4f9c786601be6a",
       "version_major": 2,
       "version_minor": 0
      },
      "text/plain": [
       "interactive(children=(Play(value=0, description='Press play', max=10), Output()), _dom_classes=('widget-intera…"
      ]
     },
     "metadata": {},
     "output_type": "display_data"
    },
    {
     "data": {
      "text/plain": [
       "<function Functions.animated_frames.<locals>.update(f:int=0)>"
      ]
     },
     "execution_count": 54,
     "metadata": {},
     "output_type": "execute_result"
    }
   ],
   "source": [
    "animated_frames(animation_segments, animation_vertices,\"test\")"
   ]
  }
 ],
 "metadata": {
  "kernelspec": {
   "display_name": "Python 3",
   "language": "python",
   "name": "python3"
  },
  "language_info": {
   "codemirror_mode": {
    "name": "ipython",
    "version": 3
   },
   "file_extension": ".py",
   "mimetype": "text/x-python",
   "name": "python",
   "nbconvert_exporter": "python",
   "pygments_lexer": "ipython3",
   "version": "3.6.7"
  }
 },
 "nbformat": 4,
 "nbformat_minor": 2
}
