{
 "cells": [
  {
   "cell_type": "code",
   "execution_count": 1,
   "metadata": {},
   "outputs": [],
   "source": [
    "%load_ext autoreload\n",
    "%autoreload 2"
   ]
  },
  {
   "cell_type": "code",
   "execution_count": 2,
   "metadata": {},
   "outputs": [],
   "source": [
    "from Visual import animated_frames, save_frames\n",
    "from Simulation import run\n",
    "import numpy as np\n",
    "from tqdm.autonotebook import tqdm"
   ]
  },
  {
   "cell_type": "code",
   "execution_count": 3,
   "metadata": {},
   "outputs": [],
   "source": [
    "l = 1\n",
    "d = l*2e-3\n",
    "epsilon = d*1e-4"
   ]
  },
  {
   "cell_type": "code",
   "execution_count": 4,
   "metadata": {},
   "outputs": [],
   "source": [
    "N = 50 #number of vertexes\n",
    "Frames = 10 #number of frames between adding vercites\n",
    "M = 50 #number of segment adding iteration between adding vertices\n",
    "M = int(M/Frames)"
   ]
  },
  {
   "cell_type": "code",
   "execution_count": 5,
   "metadata": {},
   "outputs": [
    {
     "data": {
      "application/vnd.jupyter.widget-view+json": {
       "model_id": "05efca7f589f4395bec9a4c1717f8f23",
       "version_major": 2,
       "version_minor": 0
      },
      "text/plain": [
       "HBox(children=(IntProgress(value=0, max=50), HTML(value='')))"
      ]
     },
     "metadata": {},
     "output_type": "display_data"
    },
    {
     "name": "stdout",
     "output_type": "stream",
     "text": [
      "\n"
     ]
    }
   ],
   "source": [
    "np.random.seed(3)\n",
    "animation_segments,animation_vertices = run(N,M,Frames,l,d,epsilon)"
   ]
  },
  {
   "cell_type": "code",
   "execution_count": 6,
   "metadata": {},
   "outputs": [
    {
     "data": {
      "application/vnd.jupyter.widget-view+json": {
       "model_id": "5f8d2e2f1179482b8027a42fa6a58b45",
       "version_major": 2,
       "version_minor": 0
      },
      "text/plain": [
       "Canvas(toolbar=Toolbar(toolitems=[('Home', 'Reset original view', 'home', 'home'), ('Back', 'Back to previous …"
      ]
     },
     "metadata": {},
     "output_type": "display_data"
    },
    {
     "data": {
      "application/vnd.jupyter.widget-view+json": {
       "model_id": "6c8948f7be6942188eba21991b90adb1",
       "version_major": 2,
       "version_minor": 0
      },
      "text/plain": [
       "IntSlider(value=0, max=444)"
      ]
     },
     "metadata": {},
     "output_type": "display_data"
    },
    {
     "data": {
      "application/vnd.jupyter.widget-view+json": {
       "model_id": "0f71319c8ec24ccfbc19cfcf57e84827",
       "version_major": 2,
       "version_minor": 0
      },
      "text/plain": [
       "interactive(children=(Play(value=0, description='Press play', interval=200, max=444), Output()), _dom_classes=…"
      ]
     },
     "metadata": {},
     "output_type": "display_data"
    },
    {
     "data": {
      "text/plain": [
       "<function Visual.animated_frames.<locals>.update(f: int = 0)>"
      ]
     },
     "execution_count": 6,
     "metadata": {},
     "output_type": "execute_result"
    }
   ],
   "source": [
    "%matplotlib widget\n",
    "animated_frames(animation_segments, animation_vertices)"
   ]
  },
  {
   "cell_type": "code",
   "execution_count": 7,
   "metadata": {},
   "outputs": [
    {
     "ename": "NameError",
     "evalue": "name 'animation_segments' is not defined",
     "output_type": "error",
     "traceback": [
      "\u001b[0;31m---------------------------------------------------------------------------\u001b[0m",
      "\u001b[0;31mNameError\u001b[0m                                 Traceback (most recent call last)",
      "\u001b[0;32m<ipython-input-7-641605ac966c>\u001b[0m in \u001b[0;36m<module>\u001b[0;34m\u001b[0m\n\u001b[0;32m----> 1\u001b[0;31m \u001b[0msave_frames\u001b[0m\u001b[0;34m(\u001b[0m\u001b[0manimation_segments\u001b[0m\u001b[0;34m,\u001b[0m \u001b[0manimation_vertices\u001b[0m\u001b[0;34m,\u001b[0m\u001b[0;34m\"results_multi_vertices_3\"\u001b[0m\u001b[0;34m,\u001b[0m\u001b[0;36m3\u001b[0m\u001b[0;34m)\u001b[0m\u001b[0;34m\u001b[0m\u001b[0;34m\u001b[0m\u001b[0m\n\u001b[0m",
      "\u001b[0;31mNameError\u001b[0m: name 'animation_segments' is not defined"
     ]
    }
   ],
   "source": [
    "save_frames(animation_segments, animation_vertices,\"results_multi_vertices_3\",3)"
   ]
  },
  {
   "cell_type": "code",
   "execution_count": null,
   "metadata": {},
   "outputs": [],
   "source": [
    "!./nice_gif.sh results_multi_vertices_1/%06d.png animations/anim3.mp4 animations/anim3.gif"
   ]
  },
  {
   "cell_type": "code",
   "execution_count": 27,
   "metadata": {},
   "outputs": [
    {
     "data": {
      "application/vnd.jupyter.widget-view+json": {
       "model_id": "311f7f7e69f34c6fb4d8d964fb666951",
       "version_major": 2,
       "version_minor": 0
      },
      "text/plain": [
       "HBox(children=(IntProgress(value=0, max=200), HTML(value='')))"
      ]
     },
     "metadata": {},
     "output_type": "display_data"
    },
    {
     "name": "stdout",
     "output_type": "stream",
     "text": [
      "\n"
     ]
    },
    {
     "data": {
      "application/vnd.jupyter.widget-view+json": {
       "model_id": "",
       "version_major": 2,
       "version_minor": 0
      },
      "text/plain": [
       "Canvas(toolbar=Toolbar(toolitems=[('Home', 'Reset original view', 'home', 'home'), ('Back', 'Back to previous …"
      ]
     },
     "metadata": {},
     "output_type": "display_data"
    },
    {
     "data": {
      "application/vnd.jupyter.widget-view+json": {
       "model_id": "422de78a81f04b4595d29accb5da089c",
       "version_major": 2,
       "version_minor": 0
      },
      "text/plain": [
       "IntSlider(value=0, max=90)"
      ]
     },
     "metadata": {},
     "output_type": "display_data"
    },
    {
     "data": {
      "application/vnd.jupyter.widget-view+json": {
       "model_id": "d96d6cc3a0f94130b81f341c47f9ca8b",
       "version_major": 2,
       "version_minor": 0
      },
      "text/plain": [
       "interactive(children=(Play(value=0, description='Press play', interval=200, max=90), Output()), _dom_classes=(…"
      ]
     },
     "metadata": {},
     "output_type": "display_data"
    },
    {
     "data": {
      "text/plain": [
       "<function Visual.animated_frames.<locals>.update(f: int = 0)>"
      ]
     },
     "execution_count": 27,
     "metadata": {},
     "output_type": "execute_result"
    }
   ],
   "source": [
    "from Simulation import reset, find_segments, segments_adding\n",
    "segments, active_vertices, animation_vertices, animation_segments = reset()\n",
    "active_vertices.append(np.array([1,1]))\n",
    "active_vertices.append(np.array([1,-1]))\n",
    "active_vertices.append(np.array([0.5,0.5]))\n",
    "active_segments, segments_vertices = find_segments(active_vertices, segments,2e-3,2e-7)\n",
    "for f in tqdm(range(100)):\n",
    "    L = len(segments)\n",
    "    active_segments, segments_vertices = segments_adding(10,active_vertices,active_segments,segments_vertices,segments,2e-3,2e-7)\n",
    "    if L != len(segments):\n",
    "        animation_vertices.append(np.array(active_vertices))\n",
    "        animation_segments.append(np.array(segments))\n",
    "active_segments, segments_vertices = find_segments(active_vertices, segments,2e-3,2e-7)\n",
    "animation_vertices.append(np.array(active_vertices))\n",
    "animation_segments.append(np.array(segments))\n",
    "segments = np.vstack(np.array(segments)).T\n",
    "%matplotlib widget\n",
    "animated_frames(animation_segments, animation_vertices)"
   ]
  },
  {
   "cell_type": "code",
   "execution_count": 30,
   "metadata": {},
   "outputs": [
    {
     "data": {
      "application/vnd.jupyter.widget-view+json": {
       "model_id": "",
       "version_major": 2,
       "version_minor": 0
      },
      "text/plain": [
       "Canvas(toolbar=Toolbar(toolitems=[('Home', 'Reset original view', 'home', 'home'), ('Back', 'Back to previous …"
      ]
     },
     "metadata": {},
     "output_type": "display_data"
    },
    {
     "data": {
      "application/vnd.jupyter.widget-view+json": {
       "model_id": "794507d2658a4610b9d347f1f7585b60",
       "version_major": 2,
       "version_minor": 0
      },
      "text/plain": [
       "IntSlider(value=0, max=82)"
      ]
     },
     "metadata": {},
     "output_type": "display_data"
    },
    {
     "data": {
      "application/vnd.jupyter.widget-view+json": {
       "model_id": "733af5e4baa14306abd1633f46f09fda",
       "version_major": 2,
       "version_minor": 0
      },
      "text/plain": [
       "interactive(children=(Play(value=0, description='Press play', interval=200, max=82), Output()), _dom_classes=(…"
      ]
     },
     "metadata": {},
     "output_type": "display_data"
    },
    {
     "data": {
      "text/plain": [
       "<function Visual.animated_frames.<locals>.update(f: int = 0)>"
      ]
     },
     "execution_count": 30,
     "metadata": {},
     "output_type": "execute_result"
    }
   ],
   "source": [
    "###TEST 6\n",
    "from Simulation import reset, find_segments, segments_adding\n",
    "segments, active_vertices, animation_vertices, animation_segments = reset()\n",
    "active_vertices.append(np.array([1,1]))\n",
    "active_vertices.append(np.array([1,-1]))\n",
    "active_vertices.append(np.array([0.5,0.5]))\n",
    "active_vertices.append(np.array([0.5,-0.5]))\n",
    "active_segments, segments_vertices = find_segments(active_vertices, segments,2e-3,2e-7)\n",
    "for f in range(150):\n",
    "    L = len(segments)\n",
    "    active_segments, segments_vertices = segments_adding(10,active_vertices,active_segments,segments_vertices,segments,2e-3,2e-7)\n",
    "    if L != len(segments):\n",
    "        animation_vertices.append(np.array(active_vertices))\n",
    "        animation_segments.append(np.array(segments))\n",
    "active_segments, segments_vertices = find_segments(active_vertices, segments,2e-3,2e-7)\n",
    "animation_vertices.append(np.array(active_vertices))\n",
    "animation_segments.append(np.array(segments))\n",
    "segments = np.vstack(np.array(segments)).T\n",
    "%matplotlib widget\n",
    "animated_frames(animation_segments, animation_vertices)"
   ]
  },
  {
   "cell_type": "code",
   "execution_count": 31,
   "metadata": {},
   "outputs": [
    {
     "data": {
      "application/vnd.jupyter.widget-view+json": {
       "model_id": "",
       "version_major": 2,
       "version_minor": 0
      },
      "text/plain": [
       "Canvas(toolbar=Toolbar(toolitems=[('Home', 'Reset original view', 'home', 'home'), ('Back', 'Back to previous …"
      ]
     },
     "metadata": {},
     "output_type": "display_data"
    },
    {
     "data": {
      "application/vnd.jupyter.widget-view+json": {
       "model_id": "161ff028d8e3445eb21f3a192b201764",
       "version_major": 2,
       "version_minor": 0
      },
      "text/plain": [
       "IntSlider(value=0, max=50)"
      ]
     },
     "metadata": {},
     "output_type": "display_data"
    },
    {
     "data": {
      "application/vnd.jupyter.widget-view+json": {
       "model_id": "f473bdaaa5174f64a2b024e5f7b87a37",
       "version_major": 2,
       "version_minor": 0
      },
      "text/plain": [
       "interactive(children=(Play(value=0, description='Press play', interval=200, max=50), Output()), _dom_classes=(…"
      ]
     },
     "metadata": {},
     "output_type": "display_data"
    },
    {
     "data": {
      "text/plain": [
       "<function Visual.animated_frames.<locals>.update(f: int = 0)>"
      ]
     },
     "execution_count": 31,
     "metadata": {},
     "output_type": "execute_result"
    }
   ],
   "source": [
    "###TEST 7\n",
    "from Simulation import reset, find_segments, segments_adding\n",
    "segments, active_vertices, animation_vertices, animation_segments = reset()\n",
    "active_vertices.append(np.array([0,1]))\n",
    "segments.append((2e-3,0))\n",
    "segments.append((2*2e-3,0))\n",
    "segments.append((3*2e-3,0))\n",
    "segments.append((4*2e-3,0))\n",
    "active_segments, segments_vertices = find_segments(active_vertices, segments,2e-3,2e-7)\n",
    "for f in range(50):\n",
    "    L = len(segments)\n",
    "    active_segments, segments_vertices = segments_adding(10,active_vertices,active_segments,segments_vertices,segments,2e-3,2e-7)\n",
    "    if L != len(segments):\n",
    "        animation_vertices.append(np.array(active_vertices))\n",
    "        animation_segments.append(np.array(segments))\n",
    "active_segments, segments_vertices = find_segments(active_vertices, segments,2e-3,2e-7)\n",
    "animation_vertices.append(np.array(active_vertices))\n",
    "animation_segments.append(np.array(segments))\n",
    "segments = np.vstack(np.array(segments)).T\n",
    "%matplotlib widget\n",
    "animated_frames(animation_segments, animation_vertices)"
   ]
  },
  {
   "cell_type": "code",
   "execution_count": 32,
   "metadata": {},
   "outputs": [
    {
     "name": "stdout",
     "output_type": "stream",
     "text": [
      "1000\n"
     ]
    },
    {
     "data": {
      "application/vnd.jupyter.widget-view+json": {
       "model_id": "",
       "version_major": 2,
       "version_minor": 0
      },
      "text/plain": [
       "Canvas(toolbar=Toolbar(toolitems=[('Home', 'Reset original view', 'home', 'home'), ('Back', 'Back to previous …"
      ]
     },
     "metadata": {},
     "output_type": "display_data"
    },
    {
     "data": {
      "application/vnd.jupyter.widget-view+json": {
       "model_id": "6b9aeb47de6e4de1a5371aa32c996ce1",
       "version_major": 2,
       "version_minor": 0
      },
      "text/plain": [
       "IntSlider(value=0, max=25)"
      ]
     },
     "metadata": {},
     "output_type": "display_data"
    },
    {
     "data": {
      "application/vnd.jupyter.widget-view+json": {
       "model_id": "0485b409c94c4082bb61f7950918b769",
       "version_major": 2,
       "version_minor": 0
      },
      "text/plain": [
       "interactive(children=(Play(value=0, description='Press play', interval=200, max=25), Output()), _dom_classes=(…"
      ]
     },
     "metadata": {},
     "output_type": "display_data"
    },
    {
     "data": {
      "text/plain": [
       "<function Visual.animated_frames.<locals>.update(f: int = 0)>"
      ]
     },
     "execution_count": 32,
     "metadata": {},
     "output_type": "execute_result"
    }
   ],
   "source": [
    "###TEST 8\n",
    "from Simulation import reset, find_segments, segments_adding\n",
    "segments, active_vertices, animation_vertices, animation_segments = reset()\n",
    "active_vertices.append(np.array([0.5,0]))\n",
    "segments.append((1,0))\n",
    "segments.append((0.5,0.5))\n",
    "segments.append((0.5,-0.5))\n",
    "active_segments, segments_vertices = find_segments(active_vertices, segments,2e-3,2e-7)\n",
    "for f in range(150):\n",
    "    L = len(segments)\n",
    "    active_segments, segments_vertices = segments_adding(10,active_vertices,active_segments,segments_vertices,segments,2e-3,2e-7)\n",
    "    if L != len(segments):\n",
    "        animation_vertices.append(np.array(active_vertices))\n",
    "        animation_segments.append(np.array(segments))\n",
    "active_segments, segments_vertices = find_segments(active_vertices, segments,2e-3,2e-7)\n",
    "animation_vertices.append(np.array(active_vertices))\n",
    "animation_segments.append(np.array(segments))\n",
    "print(len(segments))\n",
    "segments = np.vstack(np.array(segments)).T\n",
    "%matplotlib widget\n",
    "animated_frames(animation_segments, animation_vertices)"
   ]
  },
  {
   "cell_type": "code",
   "execution_count": 35,
   "metadata": {},
   "outputs": [
    {
     "data": {
      "application/vnd.jupyter.widget-view+json": {
       "model_id": "555b09ecbad14eda9296fd2b64e96083",
       "version_major": 2,
       "version_minor": 0
      },
      "text/plain": [
       "Canvas(toolbar=Toolbar(toolitems=[('Home', 'Reset original view', 'home', 'home'), ('Back', 'Back to previous …"
      ]
     },
     "metadata": {},
     "output_type": "display_data"
    },
    {
     "data": {
      "application/vnd.jupyter.widget-view+json": {
       "model_id": "8cf19583706e4f0f957530300fca38b5",
       "version_major": 2,
       "version_minor": 0
      },
      "text/plain": [
       "IntSlider(value=0, max=101)"
      ]
     },
     "metadata": {},
     "output_type": "display_data"
    },
    {
     "data": {
      "application/vnd.jupyter.widget-view+json": {
       "model_id": "f1df6399f9ae4105b67bf37b40718c69",
       "version_major": 2,
       "version_minor": 0
      },
      "text/plain": [
       "interactive(children=(Play(value=0, description='Press play', interval=200, max=101), Output()), _dom_classes=…"
      ]
     },
     "metadata": {},
     "output_type": "display_data"
    },
    {
     "data": {
      "text/plain": [
       "<function Visual.animated_frames.<locals>.update(f: int = 0)>"
      ]
     },
     "execution_count": 35,
     "metadata": {},
     "output_type": "execute_result"
    }
   ],
   "source": [
    "from Simulation import reset, find_segments, segments_adding\n",
    "segments, active_vertices, animation_vertices, animation_segments, active_segments, segments_vertices = reset()\n",
    "active_vertices.append(np.array([1,1]))\n",
    "active_vertices.append(np.array([1,-1]))\n",
    "active_segments, segments_vertices = find_segments(active_vertices, segments,2e-3,2e-7)\n",
    "for f in range(102):\n",
    "    L = len(segments)\n",
    "    active_segments, segments_vertices = segments_adding(10,active_vertices,active_segments,segments_vertices,segments,2e-3,2e-7)\n",
    "    if L != len(segments):\n",
    "        animation_vertices.append(np.array(active_vertices))\n",
    "        animation_segments.append(np.array(segments))\n",
    "active_segments, segments_vertices = find_segments(active_vertices, segments,2e-3,2e-7)\n",
    "animation_vertices.append(np.array(active_vertices))\n",
    "animation_segments.append(np.array(segments))\n",
    "segments = np.vstack(np.array(segments)).T\n",
    "%matplotlib widget\n",
    "animated_frames(animation_segments, animation_vertices)"
   ]
  }
 ],
 "metadata": {
  "kernelspec": {
   "display_name": "Python 3",
   "language": "python",
   "name": "python3"
  },
  "language_info": {
   "codemirror_mode": {
    "name": "ipython",
    "version": 3
   },
   "file_extension": ".py",
   "mimetype": "text/x-python",
   "name": "python",
   "nbconvert_exporter": "python",
   "pygments_lexer": "ipython3",
   "version": "3.7.3"
  }
 },
 "nbformat": 4,
 "nbformat_minor": 4
}
