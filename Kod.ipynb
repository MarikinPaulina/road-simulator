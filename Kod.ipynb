{
 "cells": [
  {
   "cell_type": "code",
   "execution_count": 1,
   "metadata": {},
   "outputs": [],
   "source": [
    "from scipy.spatial import ckdtree\n",
    "import numpy as np\n",
    "from tqdm import tqdm_notebook as tqdm\n",
    "%matplotlib widget\n",
    "import matplotlib.pyplot as plt\n",
    "from matplotlib.animation import FuncAnimation\n",
    "import ipywidgets\n",
    "from ipywidgets import interact, IntSlider\n",
    "from IPython.display import display"
   ]
  },
  {
   "cell_type": "code",
   "execution_count": 2,
   "metadata": {},
   "outputs": [],
   "source": [
    "l = 1\n",
    "d = l*1e-2\n",
    "epsilon = d*1e-3"
   ]
  },
  {
   "cell_type": "code",
   "execution_count": 3,
   "metadata": {},
   "outputs": [],
   "source": [
    "N = 200 #number of vertexes\n",
    "Frames = 10 #number of frames between adding vercites\n",
    "M = 20 #number of segment adding iteration between adding vertices\n",
    "M = int(M/Frames)"
   ]
  },
  {
   "cell_type": "code",
   "execution_count": 14,
   "metadata": {},
   "outputs": [],
   "source": [
    "def random_vertex():\n",
    "    x, y = np.random.random(2)*2*l-l\n",
    "    return np.array([x,y])\n",
    "\n",
    "def find_segments(vertices, segments):\n",
    "    active_segments = [] #segmenty które będą się rozrastać\n",
    "    segments_vertices = [] #krawędzie do których będzie rozrastać się segment na odpowiednim miejscu powyżej\n",
    "    tree = ckdtree.cKDTree(segments)\n",
    "    for i in range(len(vertices)-1,-1,-1):\n",
    "        dist, nearest_segments = tree.query(vertices[i])\n",
    "        if dist < d:\n",
    "            del vertices[i]\n",
    "    for i in range(len(vertices)):\n",
    "        dist, nearest_segments = tree.query(vertices[i],5)\n",
    "        close = [True]\n",
    "        close.extend((np.diff(dist)<epsilon).tolist())\n",
    "        for s in nearest_segments[close]:\n",
    "            active_segments.append(segments[s])\n",
    "            segments_vertices.append([i])\n",
    "            \n",
    "#             if s in active_segments:\n",
    "# #                 index = active_segments.index(s)\n",
    "# #                 segments_vertices[index].extend([i])\n",
    "#                 active_segments.append(s)\n",
    "#                 segments_vertices.append([i])\n",
    "#             else:\n",
    "#                 active_segments.append(s)\n",
    "#                 segments_vertices.append([i])\n",
    "    \n",
    "    return active_segments, segments_vertices\n",
    "\n",
    "def segment_adding(M:int,active_vertices,active_segments,segments_vertices,segments,visual):\n",
    "    for m in range(M):\n",
    "        for i in range(len(active_segments)-1, -1, -1):\n",
    "            del_x = active_vertices[segments_vertices[i][0]][0] - active_segments[i][0]\n",
    "            del_y = active_vertices[segments_vertices[i][0]][1] - active_segments[i][1]\n",
    "            r = (del_x**2 + del_y**2)**0.5\n",
    "            if r > d:\n",
    "                new_seg = (active_segments[i][0]+del_x*d/r,active_segments[i][1]+del_y*d/r)\n",
    "                segments.append(new_seg)\n",
    "                visual.append([active_segments[i],new_seg])\n",
    "                active_segments[i] = new_seg\n",
    "            else:\n",
    "                del segments_vertices[i]\n",
    "                del active_segments[i]\n",
    "#                         segments_vertices.remove(segments_vertices[i])\n",
    "#                         active_segments.remove(active_segments[i])"
   ]
  },
  {
   "cell_type": "code",
   "execution_count": 6,
   "metadata": {},
   "outputs": [],
   "source": [
    "def animated_frames(animation_segments, animation_vertices):\n",
    "    \n",
    "    plt.close()\n",
    "    fig, ax = plt.subplots()\n",
    "    title = ax.set_title(\"Iteration 0\")\n",
    "    def update(f: int = 0):\n",
    "        ax.cla()\n",
    "        frame_segments = np.swapaxes(animation_segments[f],0,2)\n",
    "#         frame_segments = animation_segments[f]\n",
    "        frame_vertices = animation_vertices[f]\n",
    "        if frame_vertices.size > 0:\n",
    "            scatterplot = ax.scatter(frame_vertices[:,0], frame_vertices[:,1])\n",
    "        # TODO optimize the line below - done?\n",
    "        lines = ax.plot(frame_segments[0], frame_segments[1])\n",
    "#         lines = [ax.plot(segment[:, 0], segment[:, 1]) for segment in frame_segments]\n",
    "        \n",
    "        title = ax.set_title(f\"Iteration {f}/{len(animation_segments)-1}\")\n",
    "        fig.canvas.draw()\n",
    "    plt.show()\n",
    "\n",
    "    play = ipywidgets.Play(\n",
    "        interval=500,\n",
    "        value=0, \n",
    "        min=0,\n",
    "        max=len(animation_segments)-1,\n",
    "        step=1,\n",
    "        description=\"Press play\",\n",
    "        disabled=False\n",
    "        )\n",
    "    \n",
    "    slider = IntSlider(min=0, max=len(animation_segments)-1, step=1)\n",
    "#     w = interactive()\n",
    "    link = ipywidgets.jslink((play, 'value'), (slider, 'value'))\n",
    "    display(slider)\n",
    "#     ipywidgets.HBox([play, slider])\n",
    "    # 1.png\n",
    "    return interact(update, f=play);"
   ]
  },
  {
   "cell_type": "code",
   "execution_count": 15,
   "metadata": {},
   "outputs": [],
   "source": [
    "def run(N=N,M=M,visualization=None):\n",
    "    segments = [(0,0)]\n",
    "    active_vertices = []\n",
    "    visual = []\n",
    "    animation_vertices = []\n",
    "    animation_segments = []\n",
    "    for n in tqdm(range(N)):\n",
    "        active_vertices.append(random_vertex())\n",
    "        active_segments, segments_vertices = find_segments(active_vertices, segments)\n",
    "        for f in range(Frames):\n",
    "            segment_adding(M,active_vertices,active_segments,segments_vertices,segments,visual)\n",
    "#             for m in range(M):\n",
    "#                 for i in range(len(active_segments)-1, -1, -1):\n",
    "#                     del_x = active_vertices[segments_vertices[i][0]][0] - active_segments[i][0]\n",
    "#                     del_y = active_vertices[segments_vertices[i][0]][1] - active_segments[i][1]\n",
    "#                     r = (del_x**2 + del_y**2)**0.5\n",
    "#                     if r > d:\n",
    "#                         new_seg = (active_segments[i][0]+del_x*d/r,active_segments[i][1]+del_y*d/r)\n",
    "#                         segments.append(new_seg)\n",
    "#                         visual.append([active_segments[i],new_seg])\n",
    "#                         active_segments[i] = new_seg\n",
    "#                     else:\n",
    "#                         del segments_vertices[i]\n",
    "#                         del active_segments[i]\n",
    "# #                         segments_vertices.remove(segments_vertices[i])\n",
    "# #                         active_segments.remove(active_segments[i])\n",
    "            if len(active_segments) != 0:\n",
    "                animation_vertices.append(np.array(active_vertices.copy()))\n",
    "                animation_segments.append(np.array(visual.copy()))\n",
    "\n",
    "    active_segments, segments_vertices = find_segments(active_vertices, segments)\n",
    "    animation_vertices.append(np.array(active_vertices.copy()))\n",
    "    animation_segments.append(np.array(visual.copy()))\n",
    "\n",
    "    # active_vertices = np.vstack(active_vertices).T\n",
    "    segments = np.vstack(np.array(segments)).T\n",
    "    if visualization == 'end_picture':\n",
    "        visual = np.array(visual).T\n",
    "        return visual,active_vertices\n",
    "    elif visualization == 'animation':\n",
    "        return [animation_segments,animation_vertices]"
   ]
  },
  {
   "cell_type": "code",
   "execution_count": 16,
   "metadata": {},
   "outputs": [
    {
     "data": {
      "application/vnd.jupyter.widget-view+json": {
       "model_id": "a9bf5a0fa9ce43f29566a49ee609fe4a",
       "version_major": 2,
       "version_minor": 0
      },
      "text/plain": [
       "HBox(children=(IntProgress(value=0, max=200), HTML(value='')))"
      ]
     },
     "metadata": {},
     "output_type": "display_data"
    },
    {
     "name": "stderr",
     "output_type": "stream",
     "text": [
      "/home/paulina/.anaconda3/lib/python3.6/site-packages/numpy/lib/function_base.py:1273: RuntimeWarning: invalid value encountered in subtract\n",
      "  a = op(a[slice1], a[slice2])\n",
      "/home/paulina/.anaconda3/lib/python3.6/site-packages/ipykernel_launcher.py:16: RuntimeWarning: invalid value encountered in less\n",
      "  app.launch_new_instance()\n"
     ]
    },
    {
     "name": "stdout",
     "output_type": "stream",
     "text": [
      "\n"
     ]
    }
   ],
   "source": [
    "animation_segments,animation_vertices = run(N,M,visualization='animation')\n",
    "# visual,active_ver = run(N,M,visualization='end_picture')"
   ]
  },
  {
   "cell_type": "code",
   "execution_count": 17,
   "metadata": {},
   "outputs": [
    {
     "data": {
      "application/vnd.jupyter.widget-view+json": {
       "model_id": "b94e42bb5cdc4dcd91c2accefa7506ae",
       "version_major": 2,
       "version_minor": 0
      },
      "text/plain": [
       "FigureCanvasNbAgg()"
      ]
     },
     "metadata": {},
     "output_type": "display_data"
    },
    {
     "data": {
      "application/vnd.jupyter.widget-view+json": {
       "model_id": "a330fbb4b6d1428ba367536f69797296",
       "version_major": 2,
       "version_minor": 0
      },
      "text/plain": [
       "IntSlider(value=0, max=876)"
      ]
     },
     "metadata": {},
     "output_type": "display_data"
    },
    {
     "data": {
      "application/vnd.jupyter.widget-view+json": {
       "model_id": "5379d34f56c34e4ca27714ee5ade0879",
       "version_major": 2,
       "version_minor": 0
      },
      "text/plain": [
       "interactive(children=(Play(value=0, description='Press play', interval=500, max=876), Output()), _dom_classes=…"
      ]
     },
     "metadata": {},
     "output_type": "display_data"
    },
    {
     "data": {
      "text/plain": [
       "<function __main__.animated_frames.<locals>.update(f:int=0)>"
      ]
     },
     "execution_count": 17,
     "metadata": {},
     "output_type": "execute_result"
    }
   ],
   "source": [
    "animated_frames(animation_segments, animation_vertices)"
   ]
  },
  {
   "cell_type": "code",
   "execution_count": 27,
   "metadata": {},
   "outputs": [
    {
     "data": {
      "text/plain": [
       "array([[[ 0.        ,  0.        ],\n",
       "        [-0.00990527, -0.00137321]],\n",
       "\n",
       "       [[-0.00990527, -0.00137321],\n",
       "        [-0.01981053, -0.00274641]],\n",
       "\n",
       "       [[-0.01981053, -0.00274641],\n",
       "        [-0.0297158 , -0.00411962]],\n",
       "\n",
       "       ...,\n",
       "\n",
       "       [[-0.9328053 , -0.72791183],\n",
       "        [-0.93609756, -0.71846933]],\n",
       "\n",
       "       [[-0.93609756, -0.71846933],\n",
       "        [-0.93938983, -0.70902682]],\n",
       "\n",
       "       [[-0.93938983, -0.70902682],\n",
       "        [-0.9426821 , -0.69958431]]])"
      ]
     },
     "execution_count": 27,
     "metadata": {},
     "output_type": "execute_result"
    }
   ],
   "source": [
    "# animation(animation_segments,animation_vertices,\"anim\")\n",
    "# for i in animation_segments:\n",
    "#     print(len(i))\n",
    "# plt.plot(animation_vertices[0].T[0],animation_vertices.T[1],'o')\n",
    "# plt.plot(animation_segments[0][0].T[0],animation_segments[0][0].T[1])\n",
    "# animation_vertices\n",
    "animation_segments[-1]"
   ]
  },
  {
   "cell_type": "code",
   "execution_count": null,
   "metadata": {},
   "outputs": [],
   "source": [
    "fig = plt.figure(figsize=[15,15])\n",
    "# plt.plot(segments[0],segments[1],'.')\n",
    "plt.plot(visual[0],visual[1])\n",
    "if active_vertices != []:\n",
    "    plt.plot(active_vertices[0],active_vertices[1],'o')\n",
    "# plt.savefig(\"takze_tego1.png\")"
   ]
  },
  {
   "cell_type": "code",
   "execution_count": null,
   "metadata": {},
   "outputs": [],
   "source": [
    "fig = plt.figure(figsize=[10,10])\n",
    "vis = np.swapaxes(animation_segments[-10],0,2)\n",
    "# plt.plot(visual[0],visual[1])\n",
    "plt.plot(vis[0],vis[1])\n",
    "print(visual.shape)"
   ]
  },
  {
   "cell_type": "code",
   "execution_count": null,
   "metadata": {},
   "outputs": [],
   "source": []
  }
 ],
 "metadata": {
  "kernelspec": {
   "display_name": "Python 3",
   "language": "python",
   "name": "python3"
  },
  "language_info": {
   "codemirror_mode": {
    "name": "ipython",
    "version": 3
   },
   "file_extension": ".py",
   "mimetype": "text/x-python",
   "name": "python",
   "nbconvert_exporter": "python",
   "pygments_lexer": "ipython3",
   "version": "3.6.7"
  }
 },
 "nbformat": 4,
 "nbformat_minor": 2
}
